{
  "nbformat": 4,
  "nbformat_minor": 0,
  "metadata": {
    "colab": {
      "name": "Yacht Hydrodynamics.ipynb",
      "provenance": [],
      "collapsed_sections": []
    },
    "kernelspec": {
      "name": "python3",
      "display_name": "Python 3"
    }
  },
  "cells": [
    {
      "cell_type": "code",
      "metadata": {
        "id": "sJiAapqXl9P9",
        "colab_type": "code",
        "outputId": "6d804c72-3bf3-4716-d906-7cf81bc2d0c1",
        "colab": {
          "base_uri": "https://localhost:8080/",
          "height": 238
        }
      },
      "source": [
        "!wget https://bin.equinox.io/c/4VmDzA7iaHb/ngrok-stable-linux-amd64.zip\n",
        "!unzip ngrok-stable-linux-amd64.zip"
      ],
      "execution_count": 1,
      "outputs": [
        {
          "output_type": "stream",
          "text": [
            "--2020-03-09 16:32:39--  https://bin.equinox.io/c/4VmDzA7iaHb/ngrok-stable-linux-amd64.zip\n",
            "Resolving bin.equinox.io (bin.equinox.io)... 52.70.189.149, 52.3.53.111, 34.226.171.201, ...\n",
            "Connecting to bin.equinox.io (bin.equinox.io)|52.70.189.149|:443... connected.\n",
            "HTTP request sent, awaiting response... 200 OK\n",
            "Length: 13773305 (13M) [application/octet-stream]\n",
            "Saving to: ‘ngrok-stable-linux-amd64.zip.1’\n",
            "\n",
            "\r          ngrok-sta   0%[                    ]       0  --.-KB/s               \r         ngrok-stab  67%[============>       ]   8.90M  44.5MB/s               \rngrok-stable-linux- 100%[===================>]  13.13M  50.3MB/s    in 0.3s    \n",
            "\n",
            "2020-03-09 16:32:39 (50.3 MB/s) - ‘ngrok-stable-linux-amd64.zip.1’ saved [13773305/13773305]\n",
            "\n",
            "Archive:  ngrok-stable-linux-amd64.zip\n",
            "replace ngrok? [y]es, [n]o, [A]ll, [N]one, [r]ename: n\n"
          ],
          "name": "stdout"
        }
      ]
    },
    {
      "cell_type": "code",
      "metadata": {
        "id": "qQle_oT9mAI1",
        "colab_type": "code",
        "colab": {}
      },
      "source": [
        "LOG_DIR = './log_Scalar/2'\n",
        "get_ipython().system_raw(\n",
        "    'tensorboard --logdir {} --host 0.0.0.0 --port 6006 &'\n",
        "    .format(LOG_DIR)\n",
        ")"
      ],
      "execution_count": 0,
      "outputs": []
    },
    {
      "cell_type": "code",
      "metadata": {
        "id": "whxk5k_qmIAJ",
        "colab_type": "code",
        "colab": {}
      },
      "source": [
        "get_ipython().system_raw('./ngrok http 6006 &')"
      ],
      "execution_count": 0,
      "outputs": []
    },
    {
      "cell_type": "code",
      "metadata": {
        "id": "JkvEndFmmKWE",
        "colab_type": "code",
        "outputId": "b622f179-c17f-42b0-fd38-741907899e84",
        "colab": {
          "base_uri": "https://localhost:8080/",
          "height": 34
        }
      },
      "source": [
        "! curl -s http://localhost:4040/api/tunnels | python3 -c \\\n",
        "    \"import sys, json; print(json.load(sys.stdin)['tunnels'][0]['public_url'])\""
      ],
      "execution_count": 4,
      "outputs": [
        {
          "output_type": "stream",
          "text": [
            "https://61da282d.ngrok.io\n"
          ],
          "name": "stdout"
        }
      ]
    },
    {
      "cell_type": "code",
      "metadata": {
        "id": "bY5IPGCmmOg0",
        "colab_type": "code",
        "colab": {}
      },
      "source": [
        ""
      ],
      "execution_count": 0,
      "outputs": []
    },
    {
      "cell_type": "markdown",
      "metadata": {
        "id": "MWMfbZ6t5aCE",
        "colab_type": "text"
      },
      "source": [
        "Importar Librerías."
      ]
    },
    {
      "cell_type": "code",
      "metadata": {
        "id": "T6NuMijn4Gfn",
        "colab_type": "code",
        "colab": {
          "base_uri": "https://localhost:8080/",
          "height": 63
        },
        "outputId": "6747a3b1-d9fa-4a42-c885-0898e583ff60"
      },
      "source": [
        "import numpy as np\n",
        "import matplotlib.pyplot as plt\n",
        "import math\n",
        "import tensorflow as tf\n",
        "import csv"
      ],
      "execution_count": 1,
      "outputs": [
        {
          "output_type": "display_data",
          "data": {
            "text/html": [
              "<p style=\"color: red;\">\n",
              "The default version of TensorFlow in Colab will soon switch to TensorFlow 2.x.<br>\n",
              "We recommend you <a href=\"https://www.tensorflow.org/guide/migrate\" target=\"_blank\">upgrade</a> now \n",
              "or ensure your notebook will continue to use TensorFlow 1.x via the <code>%tensorflow_version 1.x</code> magic:\n",
              "<a href=\"https://colab.research.google.com/notebooks/tensorflow_version.ipynb\" target=\"_blank\">more info</a>.</p>\n"
            ],
            "text/plain": [
              "<IPython.core.display.HTML object>"
            ]
          },
          "metadata": {
            "tags": []
          }
        }
      ]
    },
    {
      "cell_type": "markdown",
      "metadata": {
        "id": "ROvJWt8D5-j3",
        "colab_type": "text"
      },
      "source": [
        "Especificar Archivos CSV A Leer"
      ]
    },
    {
      "cell_type": "code",
      "metadata": {
        "id": "3nZnAjc24jOC",
        "colab_type": "code",
        "colab": {}
      },
      "source": [
        "Datos = 'EnExcel.csv'\n",
        "Entrenamiento = 'Entrenamiento.csv'\n",
        "Validacion = 'Validacion.csv'\n",
        "WCO = 'WCO.csv'\n",
        "WCS = 'WCS.csv'"
      ],
      "execution_count": 0,
      "outputs": []
    },
    {
      "cell_type": "markdown",
      "metadata": {
        "id": "y6bhfDeG_kgf",
        "colab_type": "text"
      },
      "source": [
        "Abrir Archivo De Datos Como csvfile, delimitado por \";\". Se asigna la variable YachtData a lo leído en CSV. n es será el número de muestras. Se recorre la matriz reconociendo los datos.\n",
        "\n"
      ]
    },
    {
      "cell_type": "code",
      "metadata": {
        "id": "NWNoqo3668Rt",
        "colab_type": "code",
        "outputId": "6463cf8a-4160-4d4a-f728-431764711ace",
        "colab": {
          "base_uri": "https://localhost:8080/",
          "height": 34
        }
      },
      "source": [
        "with open(Datos) as csvfile:\n",
        "    readCSV = csv.reader(csvfile, delimiter = ';')\n",
        "    YachtData = list(readCSV)\n",
        "    \n",
        "    n = len(YachtData)\n",
        "    for i in range(n):\n",
        "        temp = YachtData[i]\n",
        "        for j in range(0, len(temp)):\n",
        "            temp[j] = float(temp[j])\n",
        "        YachtData[i] = temp\n",
        "        \n",
        "NuMuestras = len(YachtData)        \n",
        "print(NuMuestras)"
      ],
      "execution_count": 3,
      "outputs": [
        {
          "output_type": "stream",
          "text": [
            "308\n"
          ],
          "name": "stdout"
        }
      ]
    },
    {
      "cell_type": "markdown",
      "metadata": {
        "id": "c5dUmuGSATa6",
        "colab_type": "text"
      },
      "source": [
        "Normalizar Datos. Se crea la matriz de dimensión 308 (tamaño de muestras) por 7 (número de atributos)\n",
        "\n"
      ]
    },
    {
      "cell_type": "code",
      "metadata": {
        "id": "c4776DjNAW8F",
        "colab_type": "code",
        "colab": {}
      },
      "source": [
        "mins = []\n",
        "maxs = []\n",
        "normalizedData = np.zeros([308,7],dtype=np.float64)\n",
        "for i in range(0,7):\n",
        "    atrib = []\n",
        "    norm = []\n",
        "\n",
        "    for j in range(0,len(YachtData)):\n",
        "        temp = YachtData[j]\n",
        "        atrib.append(temp[i])\n",
        "    \n",
        "    xMin = min(atrib)\n",
        "    mins.append(xMin)\n",
        "    xMax = max(atrib)\n",
        "    maxs.append(xMax)\n",
        "    yMin = -1\n",
        "    yMax = 1\n",
        "    div = (yMax-yMin) / (xMax-xMin)\n",
        "\n",
        "    for k in range(0,len(YachtData)):\n",
        "        s = atrib[k]-xMin\n",
        "        vNor = yMin + s*div\n",
        "        norm.append(vNor)\n",
        "\n",
        "    for l in range(0,len(YachtData)):\n",
        "        normalizedData[l,i] = norm[l]"
      ],
      "execution_count": 0,
      "outputs": []
    },
    {
      "cell_type": "markdown",
      "metadata": {
        "id": "nLSd5ci6CxAT",
        "colab_type": "text"
      },
      "source": [
        "Variables xtrain y ytrain. 215 datos de entrenamiento. 6 variables de entrada, es decir, entradas de la red. 1 variable de salida, es decir, una neurona de salida. "
      ]
    },
    {
      "cell_type": "code",
      "metadata": {
        "id": "0KslaUC8DDAR",
        "colab_type": "code",
        "colab": {}
      },
      "source": [
        "xTrain = np.zeros([215,6],dtype=np.float64)\n",
        "yTrain = np.zeros([215,1],dtype=np.float64)"
      ],
      "execution_count": 0,
      "outputs": []
    },
    {
      "cell_type": "markdown",
      "metadata": {
        "id": "o34yHEz4DIi9",
        "colab_type": "text"
      },
      "source": [
        "\n",
        "Importar Datos Entrenamiento, se conocerá el entrenamiento deseado."
      ]
    },
    {
      "cell_type": "code",
      "metadata": {
        "id": "fR0VFlj2DRtA",
        "colab_type": "code",
        "outputId": "f65462b0-195d-4fa1-db4c-d69049c4e1da",
        "colab": {
          "base_uri": "https://localhost:8080/",
          "height": 34
        }
      },
      "source": [
        "with open(Entrenamiento) as csvfile:\n",
        "    readCSV = csv.reader(csvfile, delimiter = ';')\n",
        "    traind = list(readCSV)\n",
        "    \n",
        "    n = len(traind)\n",
        "    for i in range(n):\n",
        "        temp = traind[i]\n",
        "        for j in range(0, len(temp)):\n",
        "            temp[j] = float(temp[j])\n",
        "        traind[i] = temp\n",
        "        \n",
        "muestrasTrain = len(traind)        \n",
        "print(muestrasTrain)"
      ],
      "execution_count": 6,
      "outputs": [
        {
          "output_type": "stream",
          "text": [
            "215\n"
          ],
          "name": "stdout"
        }
      ]
    },
    {
      "cell_type": "markdown",
      "metadata": {
        "id": "RRw5u3ynFMOV",
        "colab_type": "text"
      },
      "source": [
        "Entrenamiento Deseado."
      ]
    },
    {
      "cell_type": "code",
      "metadata": {
        "id": "BGaeVtnBFOzP",
        "colab_type": "code",
        "outputId": "1e1bddfd-bc70-4c74-e4e6-c547a5986860",
        "colab": {
          "base_uri": "https://localhost:8080/",
          "height": 54
        }
      },
      "source": [
        "trainDeseado = []\n",
        "for i in range(len(traind)):\n",
        "    temp = traind[i]\n",
        "    trainDeseado.append(temp[6])\n",
        "print(trainDeseado)"
      ],
      "execution_count": 7,
      "outputs": [
        {
          "output_type": "stream",
          "text": [
            "[1.01, 1.43, 2.05, 2.73, 3.87, 7.19, 13.96, 25.18, 41.34, 62.42, 0.03, 0.18, 0.4, 0.73, 1.3, 2.16, 3.35, 5.06, 7.14, 10.36, 15.25, 23.15, 34.62, 51.5, 0.06, 0.15, 0.34, 0.63, 1.13, 1.85, 2.84, 4.34, 6.2, 8.62, 12.49, 20.41, 32.46, 50.94, 0.16, 0.32, 0.59, 0.92, 1.37, 1.94, 2.62, 3.7, 5.45, 9.45, 16.31, 27.34, 41.77, 60.85, 0.09, 0.24, 0.47, 0.78, 1.21, 1.85, 2.62, 3.69, 5.07, 7.95, 13.73, 23.55, 37.14, 55.87, 0.01, 21.51, 33.97, 50.36, 0.12, 0.26, 0.43, 0.69, 1.09, 1.67, 2.46, 3.43, 4.62, 6.86, 11.56, 20.63, 34.5, 54.23, 0.28, 0.44, 0.7, 1.07, 1.57, 2.23, 3.09, 4.09, 5.82, 8.28, 12.8, 20.41, 32.34, 47.29, 0.2, 0.38, 0.64, 0.97, 1.36, 1.98, 2.91, 4.35, 5.79, 8.04, 12.15, 19.18, 30.09, 44.38, 0.15, 0.32, 0.55, 0.86, 1.24, 1.76, 2.49, 3.45, 4.83, 7.37, 12.76, 21.99, 35.64, 53.07, 0.11, 0.24, 0.49, 0.79, 1.28, 1.96, 2.88, 4.14, 5.96, 9.07, 14.93, 24.13, 38.12, 55.44, 0.07, 0.18, 0.4, 0.7, 1.14, 1.83, 2.77, 4.12, 5.41, 7.87, 12.71, 21.02, 34.58, 51.77, 0.08, 0.26, 0.5, 0.83, 1.28, 1.9, 2.68, 3.76, 5.57, 8.76, 14.24, 23.05, 35.46, 51.99, 0.08, 0.24, 0.45, 0.77, 1.19, 1.76, 2.59, 3.85, 5.27, 7.74, 12.4, 20.91, 33.23, 49.14, 0.08, 0.25, 0.46, 0.75, 1.11, 1.57, 2.17, 2.98, 4.42, 7.84, 14.11, 24.14, 37.95, 55.17, 0.1, 0.23, 0.47, 0.76, 1.15, 1.65, 2.28, 3.09, 4.41, 7.51, 13.77, 23.96, 37.38, 56.46, 0.05, 0.17, 0.35, 0.63, 1.01]\n"
          ],
          "name": "stdout"
        }
      ]
    },
    {
      "cell_type": "markdown",
      "metadata": {
        "id": "th2lFhdAFxtp",
        "colab_type": "text"
      },
      "source": [
        "Normalización de los datos."
      ]
    },
    {
      "cell_type": "code",
      "metadata": {
        "id": "gJfeSpItF0GY",
        "colab_type": "code",
        "outputId": "fb0fd12b-8009-4ede-cf57-f3802655d5dd",
        "colab": {
          "base_uri": "https://localhost:8080/",
          "height": 68
        }
      },
      "source": [
        "normalizedData = np.zeros([215,7],dtype=np.float64)\n",
        "for i in range(0,7):\n",
        "    atrib = []\n",
        "    norm = []\n",
        "\n",
        "    for j in range(0,len(traind)):\n",
        "        temp = traind[j]\n",
        "        atrib.append(temp[i])\n",
        "    \n",
        "    xMin = mins[i]\n",
        "    xMax = maxs[i]\n",
        "    yMin = -1\n",
        "    yMax = 1\n",
        "    div = (yMax-yMin) / (xMax-xMin)\n",
        "\n",
        "    for k in range(0,len(traind)):\n",
        "        s = atrib[k]-xMin\n",
        "        vNor = yMin + s*div\n",
        "        norm.append(vNor)\n",
        "\n",
        "    for l in range(0,len(traind)):\n",
        "        normalizedData[l,i] = norm[l]\n",
        "\n",
        "print(len(normalizedData))\n",
        "print(normalizedData[0])"
      ],
      "execution_count": 8,
      "outputs": [
        {
          "output_type": "stream",
          "text": [
            "215\n",
            "[ 0.08       -1.         -1.         -1.         -0.07692308 -0.38461538\n",
            " -0.96795385]\n"
          ],
          "name": "stdout"
        }
      ]
    },
    {
      "cell_type": "markdown",
      "metadata": {
        "id": "-Z4LbDf2G_xq",
        "colab_type": "text"
      },
      "source": [
        "0 a 6 Son Datos de Entrada. 6 Son datos de Salida"
      ]
    },
    {
      "cell_type": "code",
      "metadata": {
        "id": "6tbtcU1zHF8w",
        "colab_type": "code",
        "colab": {}
      },
      "source": [
        "for i in range(muestrasTrain):\n",
        "    temp = normalizedData[i]\n",
        "    xTemp = temp[0:6]\n",
        "    yTemp = temp[6]\n",
        "    xTrain[i] = xTemp\n",
        "    yTrain[i] = yTemp"
      ],
      "execution_count": 0,
      "outputs": []
    },
    {
      "cell_type": "markdown",
      "metadata": {
        "id": "c-tX_cGDHt37",
        "colab_type": "text"
      },
      "source": [
        "Definición PlaceHolders, Entradas de la red. "
      ]
    },
    {
      "cell_type": "code",
      "metadata": {
        "id": "Y5nqMvVuHy46",
        "colab_type": "code",
        "colab": {}
      },
      "source": [
        "X = tf.placeholder(tf.float32,(None,None), name='X')\n",
        "Y = tf.placeholder(tf.float32,(None,None), name='Y')"
      ],
      "execution_count": 0,
      "outputs": []
    },
    {
      "cell_type": "code",
      "metadata": {
        "id": "LLjU16N0IBRF",
        "colab_type": "code",
        "colab": {}
      },
      "source": [
        "neurons = 60\n",
        "Wco = tf.Variable(tf.random_uniform((6,neurons),-1,1))\n",
        "bco = tf.Variable(tf.random_uniform((neurons,),-1,1))\n",
        "\n",
        "Wcs = tf.Variable(tf.random_uniform((neurons,1),-1,1))\n",
        "bcs = tf.Variable(tf.random_uniform((1,),-1,1))"
      ],
      "execution_count": 0,
      "outputs": []
    },
    {
      "cell_type": "code",
      "metadata": {
        "id": "ZjT2hHeNIFoE",
        "colab_type": "code",
        "colab": {}
      },
      "source": [
        "OutputCo= tf.tanh(tf.matmul(X,Wco)+bco)\n",
        "Output= (tf.matmul(OutputCo,Wcs)+bcs)"
      ],
      "execution_count": 0,
      "outputs": []
    },
    {
      "cell_type": "code",
      "metadata": {
        "id": "xsNbB1JzIHvL",
        "colab_type": "code",
        "colab": {
          "base_uri": "https://localhost:8080/",
          "height": 88
        },
        "outputId": "ed791ad5-ac58-4448-f083-aa3a8ad1a0d4"
      },
      "source": [
        "loss = tf.reduce_mean(tf.square(Y-Output))\n",
        "tf.summary.scalar('Loss', loss)\n",
        "\n",
        "optimizer = tf.train.RMSPropOptimizer(0.05)\n",
        "#optimizer = tf.train.AdamOptimizer(0.05)\n",
        "#optimizer = tf.train.MomentumOptimizer(0.05,0.9)\n",
        "#optimizer = tf.train.MomentumOptimizer(0.05,0.9,use_nesterov=True)\n",
        "#optimizer = tf.train.AdadeltaOptimizer(learning_rate=0.05,rho=0.95, epsilon=1e-08,use_locking=False)\n",
        "#optimizer = tf.train.AdagradDAOptimizer(learning_rate, global_step, initial_gradient_squared_accumulator_value=0.05,l1_regularization_strength=0.0,l2_regularization_strength=0.0,use_locking=False)\n",
        "#optimizer = tf.train.AdagradOptimizer(learning_rate,initial_accumulator_value=0,1,use_locking=False)\n",
        "#optimizer = tf.train.GradientDescentOptimizer(0.05)\n",
        "\n",
        "train = optimizer.minimize(loss)"
      ],
      "execution_count": 13,
      "outputs": [
        {
          "output_type": "stream",
          "text": [
            "WARNING:tensorflow:From /usr/local/lib/python3.6/dist-packages/tensorflow_core/python/training/rmsprop.py:119: calling Ones.__init__ (from tensorflow.python.ops.init_ops) with dtype is deprecated and will be removed in a future version.\n",
            "Instructions for updating:\n",
            "Call initializer instance with the dtype argument instead of passing it to the constructor\n"
          ],
          "name": "stdout"
        }
      ]
    },
    {
      "cell_type": "code",
      "metadata": {
        "id": "vjmNEZeXLW73",
        "colab_type": "code",
        "colab": {}
      },
      "source": [
        "init = tf.global_variables_initializer()\n",
        "\n",
        "sess = tf.Session()\n",
        "train_writer = tf.summary.FileWriter( \"./log_Scalar/2\" , sess.graph)\n",
        "sess.run(init)\n",
        "\n",
        "merged = tf.summary.merge_all()\n",
        "\n",
        "for i in range(500):\n",
        "    sess.run(train, {X: xTrain, Y: yTrain})\n",
        "    loss_tb, summary_tb = sess.run([loss,merged],{X: xTrain, Y: yTrain})\n",
        "    train_writer.add_summary(summary_tb, i)\n",
        "    \n",
        "    \n",
        "train_writer.close()"
      ],
      "execution_count": 0,
      "outputs": []
    },
    {
      "cell_type": "code",
      "metadata": {
        "id": "p4LlMRU3LYdM",
        "colab_type": "code",
        "colab": {
          "base_uri": "https://localhost:8080/",
          "height": 1000
        },
        "outputId": "754f68ee-82d5-4644-e7dc-3338591ad6f5"
      },
      "source": [
        "for i in range(50000):\n",
        "    sess.run(train, {X: xTrain, Y: yTrain})\n",
        "\n",
        "curr_Wco, curr_bco, curr_Wcs, curr_bcs,curr_loss, curr_Output = sess.run([Wco, bco,Wcs, bcs, loss,Output], {X:  xTrain, Y: yTrain})\n",
        "\n",
        "#Desnormalización de los datos\n",
        "curr_DOutput = np.zeros([215,1],dtype=np.float64)\n",
        "DesOutput = []\n",
        "atrib = []\n",
        "\n",
        "for j in range(0,len(traind)):\n",
        "    temp = traind[j]\n",
        "    atrib.append(temp[6])\n",
        "    \n",
        "xMin = mins[6]\n",
        "xMax = maxs[6]\n",
        "for k in range(0,len(traind)):\n",
        "    n = xMax-xMin\n",
        "    des = 0.5*(curr_Output[k] + 1)*n+xMin\n",
        "    DesOutput.append(des)\n",
        "\n",
        "for l in range(0,len(traind)):\n",
        "    curr_DOutput[l] = DesOutput[l]\n",
        "        \n",
        "#print(xMin)\n",
        "#print(xMax)\n",
        "\n",
        "print(\"Wco: %s bco: %s Wcs: %s bcs: %s loss: %s Output: %s\"%(curr_Wco, curr_bco, curr_Wcs, curr_bcs,curr_loss,curr_DOutput))"
      ],
      "execution_count": 15,
      "outputs": [
        {
          "output_type": "stream",
          "text": [
            "Wco: [[ 8.15751478e-02  2.50898991e-02 -2.43833680e-02  1.06751330e-01\n",
            "   6.56132698e-02  8.08066651e-02 -3.60039212e-02 -6.01832457e-02\n",
            "   4.83317561e-02 -2.27253418e-03 -8.45394582e-02 -6.19177008e-03\n",
            "  -1.08782001e-01 -5.24569228e-02  9.97398049e-02 -1.54593676e-01\n",
            "   4.98536751e-02  1.30025353e-02  1.60058901e-01 -7.12399706e-02\n",
            "  -9.36361830e-05  6.15630150e-02  2.05100589e-02 -9.80814099e-02\n",
            "   9.02329683e-02  1.06198624e-01 -9.33544785e-02  3.23484726e-02\n",
            "  -1.18818887e-01 -1.63876954e-02 -4.64532301e-02 -9.46435034e-02\n",
            "   7.20453262e-02 -4.70147878e-02 -4.76022437e-02 -1.78848252e-01\n",
            "   4.16560797e-03  2.44407818e-01 -8.05953443e-02 -4.59785387e-02\n",
            "  -1.27211109e-01  5.29501289e-02  3.49282258e-04 -1.79638322e-02\n",
            "  -6.44047558e-02 -2.74780989e-02  8.70112479e-02  6.16623908e-02\n",
            "  -2.30511948e-02 -6.92281574e-02  2.08564326e-02 -5.22265695e-02\n",
            "   5.11285625e-02 -6.23146556e-02  7.43028745e-02 -5.94429187e-02\n",
            "   4.88991402e-02  1.08529991e-02 -9.40270647e-02 -1.09968118e-01]\n",
            " [ 3.64414692e-01  2.23283246e-01 -1.07868351e-01  6.68445081e-02\n",
            "   3.01589370e-02 -1.49858549e-01 -3.05363927e-02  4.27249931e-02\n",
            "   3.49816456e-02  5.90006150e-02 -1.96093276e-01  5.92670515e-02\n",
            "   1.17820073e-02 -4.34272364e-02 -1.64230704e-01  1.15752243e-01\n",
            "   9.36724022e-02  2.13941678e-01 -1.90005358e-02  1.98175907e-02\n",
            "  -3.32633257e-01 -1.68312475e-01 -3.09955865e-01  3.74474786e-02\n",
            "  -1.03082927e-02 -4.81483564e-02  4.94918853e-01 -1.12922132e-01\n",
            "   7.34067485e-02 -4.22992818e-02  4.07904126e-02 -1.72087625e-01\n",
            "   8.41714293e-02  3.22055131e-01  1.48122668e-01 -5.51583208e-02\n",
            "  -1.92319289e-01 -3.53991427e-02  1.80898324e-01  9.67094377e-02\n",
            "  -1.01455726e-01  2.53723953e-02  3.18554491e-02 -2.34588236e-02\n",
            "  -4.46097702e-02  1.08645782e-01 -3.95313315e-02  8.51997547e-03\n",
            "   6.25427067e-02  1.06206387e-01  3.04788519e-02 -1.16713539e-01\n",
            "   9.41063762e-02 -6.57417625e-02  5.54077104e-02 -1.90921605e-01\n",
            "   3.51312488e-01  2.61932220e-02 -7.74722472e-02  7.84495845e-02]\n",
            " [ 1.36673975e+00  8.85190487e-01 -8.98661017e-01  6.78801596e-01\n",
            "  -2.40941972e-01 -2.25241870e-01 -3.01103387e-02  2.18552604e-01\n",
            "   3.51896167e-01  2.03060821e-01 -6.26201391e-01  1.73504606e-01\n",
            "  -3.92022610e-01 -1.18933827e-01  1.49264559e-01 -1.07226513e-01\n",
            "   3.24405164e-01  8.99935007e-01  2.50886798e-01  1.78916752e-01\n",
            "  -9.86470342e-01 -2.84542054e-01 -6.38116360e-01  2.34041601e-01\n",
            "  -6.23332486e-02  2.19411775e-01  1.01197648e+00 -1.84143469e-01\n",
            "  -9.30650830e-01 -1.83554590e-01 -1.60511792e-01 -9.40506697e-01\n",
            "   3.35430592e-01  1.36120594e+00  2.84916013e-01  3.70569795e-01\n",
            "  -7.05251217e-01  1.60111368e-01  3.30441743e-01  2.52035648e-01\n",
            "   9.00583565e-02 -4.22979295e-02  3.08541417e-01 -3.06502581e-01\n",
            "  -6.34701073e-01  4.65182930e-01 -3.62715781e-01  5.28214812e-01\n",
            "   2.29316622e-01  4.99310374e-01 -1.30719855e-01 -4.56933707e-01\n",
            "   7.23980010e-01 -3.80725473e-01  5.60324907e-01 -8.19083452e-01\n",
            "   1.21427512e+00  2.15151876e-01 -9.30395782e-01  2.05973208e-01]\n",
            " [-1.81153893e+00 -9.98092651e-01  9.38706636e-01 -8.52333546e-01\n",
            "   2.41746664e-01  2.99093753e-01 -1.52551262e-02 -2.78708041e-01\n",
            "  -3.92315030e-01 -2.84135163e-01  7.61968076e-01 -2.04584688e-01\n",
            "   4.28860277e-01  2.05639526e-01  1.68160856e-01 -1.07448198e-01\n",
            "  -3.30999017e-01 -1.12094128e+00 -6.82176575e-02 -2.85324991e-01\n",
            "   1.08126259e+00  3.69665027e-01  8.62882376e-01 -2.65883625e-01\n",
            "   9.26635861e-02 -1.64271280e-01 -1.33894098e+00  3.04449707e-01\n",
            "   1.01223886e+00  2.55235344e-01  2.61012316e-01  1.20912874e+00\n",
            "  -5.33124447e-01 -1.86129582e+00 -3.42207372e-01 -5.44943988e-01\n",
            "   9.72197592e-01 -1.97243541e-02 -5.48530996e-01 -3.07698101e-01\n",
            "  -2.19863206e-02  1.85222045e-01 -3.19769263e-01  3.68021607e-01\n",
            "   8.98289025e-01 -7.64407337e-01  4.28571969e-01 -5.08690596e-01\n",
            "  -2.98741877e-01 -5.93622863e-01  1.99237943e-01  6.47516608e-01\n",
            "  -7.84722984e-01  5.04490554e-01 -6.51245356e-01  9.91908610e-01\n",
            "  -1.71643710e+00 -2.39814252e-01  1.07542062e+00 -2.30277702e-01]\n",
            " [-1.68344617e+00 -1.05394685e+00  1.17245281e+00 -4.66297626e-01\n",
            "   1.31156430e-01  3.59629661e-01 -9.73623618e-02 -4.76855993e-01\n",
            "  -3.17065328e-01 -3.10624868e-01  6.93908453e-01 -2.19223768e-01\n",
            "   2.11765572e-01  5.10681309e-02 -1.93397719e-02 -1.14844471e-01\n",
            "  -5.03569126e-01 -9.53711033e-01  1.74928486e-01 -2.73054302e-01\n",
            "   1.47700524e+00  4.81430322e-01  7.93939173e-01 -3.13693583e-01\n",
            "   7.32912421e-02 -1.27062127e-01 -1.43040955e+00  1.52520478e-01\n",
            "   5.95305264e-01  1.98792785e-01 -1.33434325e-01  9.24589932e-01\n",
            "  -1.87175289e-01 -1.53861392e+00 -3.98102462e-01 -1.49071455e-01\n",
            "   8.34886372e-01 -1.91186875e-01 -4.32498097e-01 -5.32293200e-01\n",
            "   1.32854667e-03  4.59242091e-02 -4.20333296e-01  2.27018133e-01\n",
            "   7.46503651e-01 -5.35543263e-01  3.08198422e-01 -5.66524565e-01\n",
            "  -4.56915557e-01 -5.43447852e-01 -3.71631719e-02  5.42968750e-01\n",
            "  -9.35565829e-01  2.88917184e-01 -6.59181833e-01  8.54097188e-01\n",
            "  -1.11172509e+00 -1.07917197e-01  8.81841242e-01 -4.94255334e-01]\n",
            " [-6.19232841e-02 -1.93026550e-02 -1.93934049e-02 -1.22384734e-01\n",
            "  -9.34559107e-02 -1.96874440e-01  7.49816075e-02  4.87105921e-02\n",
            "   6.46095499e-02  2.36037970e-02  1.50660917e-01 -3.02228499e-02\n",
            "   1.12510040e-01  4.09187973e-02 -8.39732066e-02  1.20323543e-02\n",
            "  -2.65367299e-01  2.24550324e-03  2.90809488e+00  1.95452705e-01\n",
            "   1.31196901e-01 -1.49670169e-01  2.98113227e-02  8.79056752e-02\n",
            "  -5.03417253e-02 -8.21288005e-02  2.22363532e-01 -3.18465531e-02\n",
            "   1.53738469e-01  1.22935604e-02  7.25942627e-02  7.37862065e-02\n",
            "  -1.58008337e-02  2.14673936e-01 -1.10153109e-03  2.44207263e-01\n",
            "   3.09962966e-02 -2.80201510e-02  2.31046546e-02  6.46689385e-02\n",
            "  -7.68842548e-02 -2.07202390e-01 -1.73113458e-02 -3.07692972e-04\n",
            "  -3.76905751e+00 -2.52916235e-02  1.14967085e-01  8.73570796e-04\n",
            "  -2.89510507e-02  6.52982295e-02 -3.91390100e-02  8.17411169e-02\n",
            "  -1.58996150e-01  7.12013841e-02 -1.00204207e-01 -1.06042642e-02\n",
            "  -1.97097659e-02 -2.91889191e-01  2.16000542e-01  8.51685256e-02]] bco: [-0.3511769  -0.20132257  0.26277763 -0.08685086  0.02947701  0.08878692\n",
            "  0.04376045 -0.03496299 -0.01023142  0.02570398  0.1823243  -0.02146422\n",
            "  0.00812694 -0.00517441 -0.06186802 -0.15824565 -0.2145388  -0.11748642\n",
            " -0.03431385  0.02964111  0.47537598  0.03651024  0.37216592 -0.06290561\n",
            "  0.05711659 -0.06107032 -0.18206939  0.0598372   0.17748733 -0.11528391\n",
            " -0.04851332  0.10722653  0.01766992 -0.11036007 -0.1595327   0.01727725\n",
            "  0.18339129  0.25447908 -0.15550314 -0.03429024 -0.15717778 -0.16917954\n",
            " -0.1347824  -0.0651399   3.3045099  -0.12293714  0.23932607 -0.05531015\n",
            " -0.1619306  -0.10156538 -0.14738119  0.12938693 -0.1675927   0.05874221\n",
            " -0.19732253  0.14001986 -0.24165267 -0.16919124  0.21952946  0.0183847 ] Wcs: [[ 2.62833517e-02]\n",
            " [-6.44662082e-02]\n",
            " [ 1.19901951e-02]\n",
            " [ 1.80468503e-02]\n",
            " [-1.14818790e-03]\n",
            " [-6.28941655e-02]\n",
            " [ 1.69794839e-02]\n",
            " [-1.33911222e-02]\n",
            " [ 3.88839170e-02]\n",
            " [ 1.59366019e-02]\n",
            " [ 3.60359065e-02]\n",
            " [-8.09943490e-03]\n",
            " [-1.32328477e-02]\n",
            " [-3.33203487e-02]\n",
            " [-4.20334109e-04]\n",
            " [ 9.96275172e-02]\n",
            " [ 4.23764847e-02]\n",
            " [ 5.33573842e-03]\n",
            " [ 1.11157440e-01]\n",
            " [ 3.80599536e-02]\n",
            " [-1.00170553e-01]\n",
            " [-4.69788164e-02]\n",
            " [ 8.97538811e-02]\n",
            " [-2.03835815e-02]\n",
            " [ 2.93341856e-02]\n",
            " [ 4.61228453e-02]\n",
            " [ 7.34951869e-02]\n",
            " [ 6.15759231e-02]\n",
            " [-1.19250715e-01]\n",
            " [-4.88060527e-02]\n",
            " [-1.05569521e-02]\n",
            " [ 7.30545893e-02]\n",
            " [ 1.00066895e-02]\n",
            " [-5.93920425e-02]\n",
            " [-5.79963997e-02]\n",
            " [-3.51238139e-02]\n",
            " [ 1.32591755e-04]\n",
            " [-9.01495814e-02]\n",
            " [-1.31751839e-02]\n",
            " [-1.60736423e-02]\n",
            " [-1.09035829e-02]\n",
            " [ 5.16667105e-02]\n",
            " [-1.45055410e-02]\n",
            " [ 5.28725199e-02]\n",
            " [-9.39988017e-01]\n",
            " [-1.82920676e-02]\n",
            " [-1.82229932e-02]\n",
            " [ 4.35623415e-02]\n",
            " [-1.80538408e-02]\n",
            " [-4.69219573e-02]\n",
            " [-2.10774709e-02]\n",
            " [-2.96022538e-02]\n",
            " [-8.46753363e-03]\n",
            " [-1.29124373e-02]\n",
            " [-3.01095806e-02]\n",
            " [-1.05941417e-02]\n",
            " [ 1.33504532e-02]\n",
            " [-1.91728771e-03]\n",
            " [ 5.31036519e-02]\n",
            " [-3.80183831e-02]] bcs: [0.09613767] loss: 0.0017822008 Output: [[ 0.50932568]\n",
            " [ 1.01040339]\n",
            " [ 2.0300982 ]\n",
            " [ 3.59277964]\n",
            " [ 5.49416399]\n",
            " [ 8.05609226]\n",
            " [13.17797279]\n",
            " [24.13879204]\n",
            " [40.50846863]\n",
            " [54.23535538]\n",
            " [ 0.78445882]\n",
            " [ 0.72400254]\n",
            " [ 0.71449441]\n",
            " [ 0.82356268]\n",
            " [ 1.18438435]\n",
            " [ 1.98516905]\n",
            " [ 3.29485083]\n",
            " [ 4.82503891]\n",
            " [ 6.2596693 ]\n",
            " [ 8.0100584 ]\n",
            " [11.72830963]\n",
            " [20.53386879]\n",
            " [35.83075714]\n",
            " [51.07159805]\n",
            " [ 0.92793262]\n",
            " [ 0.85009688]\n",
            " [ 0.79967332]\n",
            " [ 0.81520027]\n",
            " [ 0.9808709 ]\n",
            " [ 1.45295548]\n",
            " [ 2.41946673]\n",
            " [ 3.87976456]\n",
            " [ 5.52878571]\n",
            " [ 7.36935663]\n",
            " [10.59679413]\n",
            " [18.06708908]\n",
            " [32.22622299]\n",
            " [48.33006668]\n",
            " [ 0.30402294]\n",
            " [ 0.23795706]\n",
            " [ 0.23363079]\n",
            " [ 0.36681527]\n",
            " [ 0.78247607]\n",
            " [ 1.6705786 ]\n",
            " [ 3.06682301]\n",
            " [ 4.66690826]\n",
            " [ 6.30089712]\n",
            " [ 8.76573849]\n",
            " [14.39293766]\n",
            " [26.36080933]\n",
            " [42.87798309]\n",
            " [55.50600815]\n",
            " [ 0.37129408]\n",
            " [ 0.29816404]\n",
            " [ 0.2605184 ]\n",
            " [ 0.30184677]\n",
            " [ 0.51602894]\n",
            " [ 1.07166684]\n",
            " [ 2.15416145]\n",
            " [ 3.73533463]\n",
            " [ 5.56530046]\n",
            " [ 7.96008825]\n",
            " [12.76328278]\n",
            " [23.25219345]\n",
            " [39.45642853]\n",
            " [53.56317139]\n",
            " [ 0.45202389]\n",
            " [22.41337204]\n",
            " [38.3636322 ]\n",
            " [52.97974014]\n",
            " [ 0.58424497]\n",
            " [ 0.50638694]\n",
            " [ 0.45793486]\n",
            " [ 0.47596163]\n",
            " [ 0.64214933]\n",
            " [ 1.11128771]\n",
            " [ 2.08196902]\n",
            " [ 3.59797645]\n",
            " [ 5.44549656]\n",
            " [ 7.82755089]\n",
            " [12.42059517]\n",
            " [22.47069931]\n",
            " [38.48309326]\n",
            " [52.97462082]\n",
            " [ 0.65967017]\n",
            " [ 0.59731674]\n",
            " [ 0.59460497]\n",
            " [ 0.72732818]\n",
            " [ 1.13964844]\n",
            " [ 2.01665068]\n",
            " [ 3.37619805]\n",
            " [ 4.86482334]\n",
            " [ 6.17483616]\n",
            " [ 7.71227789]\n",
            " [10.98416138]\n",
            " [18.95939445]\n",
            " [33.63572693]\n",
            " [49.40057755]\n",
            " [ 0.58246309]\n",
            " [ 0.51683986]\n",
            " [ 0.49940088]\n",
            " [ 0.59135747]\n",
            " [ 0.91609955]\n",
            " [ 1.65969408]\n",
            " [ 2.92385888]\n",
            " [ 4.46611071]\n",
            " [ 5.92944002]\n",
            " [ 7.59518194]\n",
            " [10.92322159]\n",
            " [18.88688278]\n",
            " [33.54312134]\n",
            " [49.36647034]\n",
            " [ 0.55678445]\n",
            " [ 0.47802246]\n",
            " [ 0.44092736]\n",
            " [ 0.49921861]\n",
            " [ 0.76449394]\n",
            " [ 1.41919351]\n",
            " [ 2.60853553]\n",
            " [ 4.18380928]\n",
            " [ 5.84191036]\n",
            " [ 7.95314693]\n",
            " [12.31904888]\n",
            " [22.18520355]\n",
            " [38.10290909]\n",
            " [52.62839508]\n",
            " [ 0.59189683]\n",
            " [ 0.52647448]\n",
            " [ 0.51667994]\n",
            " [ 0.63336283]\n",
            " [ 1.01448417]\n",
            " [ 1.8493768 ]\n",
            " [ 3.19409657]\n",
            " [ 4.75231409]\n",
            " [ 6.26426697]\n",
            " [ 8.29665947]\n",
            " [12.79525566]\n",
            " [23.01281738]\n",
            " [39.08613968]\n",
            " [53.27029037]\n",
            " [ 0.66700214]\n",
            " [ 0.58895808]\n",
            " [ 0.54202753]\n",
            " [ 0.56669062]\n",
            " [ 0.75097573]\n",
            " [ 1.25620866]\n",
            " [ 2.26982141]\n",
            " [ 3.78004813]\n",
            " [ 5.50151825]\n",
            " [ 7.56117058]\n",
            " [11.42694378]\n",
            " [20.20951843]\n",
            " [35.47432327]\n",
            " [50.85864639]\n",
            " [ 0.19126455]\n",
            " [ 0.1707194 ]\n",
            " [ 0.2577917 ]\n",
            " [ 0.57276899]\n",
            " [ 1.29831815]\n",
            " [ 2.53525686]\n",
            " [ 4.02719259]\n",
            " [ 5.3280139 ]\n",
            " [ 6.44344091]\n",
            " [ 8.14117813]\n",
            " [12.30102921]\n",
            " [22.09758759]\n",
            " [38.00294113]\n",
            " [52.52706146]\n",
            " [ 0.2999087 ]\n",
            " [ 0.25505385]\n",
            " [ 0.27161866]\n",
            " [ 0.42350695]\n",
            " [ 0.85253346]\n",
            " [ 1.74480975]\n",
            " [ 3.12988329]\n",
            " [ 4.66841888]\n",
            " [ 6.05317211]\n",
            " [ 7.70208883]\n",
            " [11.17926025]\n",
            " [19.51330757]\n",
            " [34.48854065]\n",
            " [50.1187439 ]\n",
            " [-0.23552626]\n",
            " [-0.26078084]\n",
            " [-0.19477819]\n",
            " [ 0.06582864]\n",
            " [ 0.6945259 ]\n",
            " [ 1.84040439]\n",
            " [ 3.35679865]\n",
            " [ 4.81693697]\n",
            " [ 6.16180897]\n",
            " [ 8.21763706]\n",
            " [13.10245419]\n",
            " [24.04030418]\n",
            " [40.40143585]\n",
            " [54.0340538 ]\n",
            " [ 0.26408952]\n",
            " [ 0.19234332]\n",
            " [ 0.16807453]\n",
            " [ 0.24990174]\n",
            " [ 0.55763632]\n",
            " [ 1.27933538]\n",
            " [ 2.54341459]\n",
            " [ 4.17133236]\n",
            " [ 5.91297579]\n",
            " [ 8.33529854]\n",
            " [13.56598282]\n",
            " [24.86847115]\n",
            " [41.30529785]\n",
            " [54.62165451]\n",
            " [ 0.44832256]\n",
            " [ 0.36236253]\n",
            " [ 0.30950981]\n",
            " [ 0.32954535]\n",
            " [ 0.50932568]]\n"
          ],
          "name": "stdout"
        }
      ]
    },
    {
      "cell_type": "markdown",
      "metadata": {
        "id": "HGZGZnpvOScy",
        "colab_type": "text"
      },
      "source": [
        "Validación."
      ]
    },
    {
      "cell_type": "code",
      "metadata": {
        "id": "gQzzn__JORKi",
        "colab_type": "code",
        "colab": {}
      },
      "source": [
        "xTest = np.zeros([94,6],dtype=np.float64)\n",
        "yTest = np.zeros([94,1],dtype=np.float64)"
      ],
      "execution_count": 0,
      "outputs": []
    },
    {
      "cell_type": "code",
      "metadata": {
        "id": "ht_dAS7nOsaU",
        "colab_type": "code",
        "colab": {
          "base_uri": "https://localhost:8080/",
          "height": 34
        },
        "outputId": "c4521cef-b255-4f66-b800-602ded7e5aac"
      },
      "source": [
        "with open(Validacion) as csvfile:\n",
        "    readCSV = csv.reader(csvfile, delimiter = ';')\n",
        "    trainv = list(readCSV)\n",
        "    \n",
        "    n = len(trainv)\n",
        "    for i in range(n):\n",
        "        temp = trainv[i]\n",
        "        for j in range(0, len(temp)):\n",
        "            temp[j] = float(temp[j])\n",
        "        trainv[i] = temp\n",
        "        \n",
        "muestrasVal = len(trainv)        \n",
        "print(muestrasVal)"
      ],
      "execution_count": 17,
      "outputs": [
        {
          "output_type": "stream",
          "text": [
            "94\n"
          ],
          "name": "stdout"
        }
      ]
    },
    {
      "cell_type": "code",
      "metadata": {
        "id": "xurWIKx8P1i8",
        "colab_type": "code",
        "colab": {
          "base_uri": "https://localhost:8080/",
          "height": 54
        },
        "outputId": "5c973631-0cf5-40e7-9133-c46bbc0d32f9"
      },
      "source": [
        "valDes = []\n",
        "for i in range(len(trainv)):\n",
        "    temp = trainv[i]\n",
        "    valDes.append(temp[6])\n",
        "print(valDes)"
      ],
      "execution_count": 18,
      "outputs": [
        {
          "output_type": "stream",
          "text": [
            "[0.11, 0.27, 0.47, 0.78, 1.18, 1.82, 2.61, 3.76, 4.99, 7.16, 11.93, 20.11, 32.75, 49.49, 0.04, 0.17, 0.37, 0.66, 1.06, 1.59, 2.33, 3.29, 4.61, 7.11, 11.99, 21.09, 35.01, 51.8, 0.09, 0.29, 0.56, 0.86, 1.31, 1.99, 2.94, 4.21, 5.54, 8.25, 13.08, 21.4, 33.14, 50.14, 0.2, 0.35, 0.65, 0.93, 1.37, 1.97, 2.83, 3.99, 5.19, 8.03, 12.86, 21.51, 33.97, 50.36, 0.2, 0.35, 0.65, 0.93, 1.37, 1.97, 2.83, 3.99, 5.19, 8.03, 12.86, 0.16, 0.39, 0.73, 1.24, 1.96, 3.04, 4.46, 6.31, 8.68, 12.39, 20.14, 31.77, 47.13, 0.04, 0.17, 0.36, 0.64, 1.02, 1.62, 2.63, 4.15, 6.0, 8.47, 12.27, 19.59, 30.48, 46.66]\n"
          ],
          "name": "stdout"
        }
      ]
    },
    {
      "cell_type": "markdown",
      "metadata": {
        "id": "M8Kbo0bOQCjM",
        "colab_type": "text"
      },
      "source": [
        "Normalización de los datos de Validación."
      ]
    },
    {
      "cell_type": "code",
      "metadata": {
        "id": "WMvv56ZuQFNO",
        "colab_type": "code",
        "colab": {
          "base_uri": "https://localhost:8080/",
          "height": 1000
        },
        "outputId": "bab215a2-3efc-4f80-8f66-842ac00f225d"
      },
      "source": [
        "dataNor = np.zeros([94,7],dtype=np.float64)\n",
        "for i in range(0,7):\n",
        "    atrib = []\n",
        "    nor = []\n",
        "\n",
        "    for j in range(0,len(trainv)):\n",
        "        temp = trainv[j]\n",
        "        atrib.append(temp[i])\n",
        "    \n",
        "    xMin = mins[i]\n",
        "    xMax = maxs[i]\n",
        "    yMin = -1\n",
        "    yMax = 1\n",
        "    div = (yMax-yMin) / (xMax-xMin)\n",
        "\n",
        "    for k in range(0,len(trainv)):\n",
        "        s = atrib[k]-xMin\n",
        "        vNor = yMin + s*div\n",
        "        nor.append(vNor)\n",
        "\n",
        "    for l in range(0,len(trainv)):\n",
        "        dataNor[l,i] = nor[l]\n",
        "print(dataNor)"
      ],
      "execution_count": 19,
      "outputs": [
        {
          "output_type": "stream",
          "text": [
            "[[ 8.00000000e-02  8.57142857e-02  1.00000000e-01 -7.08661417e-02\n",
            "  -3.29670330e-02 -1.00000000e+00 -9.96795385e-01]\n",
            " [ 8.00000000e-02  8.57142857e-02  1.00000000e-01 -7.08661417e-02\n",
            "  -3.29670330e-02 -8.46153846e-01 -9.91668002e-01]\n",
            " [ 8.00000000e-02  8.57142857e-02  1.00000000e-01 -7.08661417e-02\n",
            "  -3.29670330e-02 -6.92307692e-01 -9.85258773e-01]\n",
            " [ 8.00000000e-02  8.57142857e-02  1.00000000e-01 -7.08661417e-02\n",
            "  -3.29670330e-02 -5.38461538e-01 -9.75324467e-01]\n",
            " [ 8.00000000e-02  8.57142857e-02  1.00000000e-01 -7.08661417e-02\n",
            "  -3.29670330e-02 -3.84615385e-01 -9.62506009e-01]\n",
            " [ 8.00000000e-02  8.57142857e-02  1.00000000e-01 -7.08661417e-02\n",
            "  -3.29670330e-02 -2.30769231e-01 -9.41996475e-01]\n",
            " [ 8.00000000e-02  8.57142857e-02  1.00000000e-01 -7.08661417e-02\n",
            "  -3.29670330e-02 -7.69230769e-02 -9.16680019e-01]\n",
            " [ 8.00000000e-02  8.57142857e-02  1.00000000e-01 -7.08661417e-02\n",
            "  -3.29670330e-02  7.69230769e-02 -8.79826951e-01]\n",
            " [ 8.00000000e-02  8.57142857e-02  1.00000000e-01 -7.08661417e-02\n",
            "  -3.29670330e-02  2.30769231e-01 -8.40410191e-01]\n",
            " [ 8.00000000e-02  8.57142857e-02  1.00000000e-01 -7.08661417e-02\n",
            "  -3.29670330e-02  3.84615385e-01 -7.70870053e-01]\n",
            " [ 8.00000000e-02  8.57142857e-02  1.00000000e-01 -7.08661417e-02\n",
            "  -3.29670330e-02  5.38461538e-01 -6.18009934e-01]\n",
            " [ 8.00000000e-02  8.57142857e-02  1.00000000e-01 -7.08661417e-02\n",
            "  -3.29670330e-02  6.92307692e-01 -3.55872456e-01]\n",
            " [ 8.00000000e-02  8.57142857e-02  1.00000000e-01 -7.08661417e-02\n",
            "  -3.29670330e-02  8.46153846e-01  4.91908348e-02]\n",
            " [ 8.00000000e-02  8.57142857e-02  1.00000000e-01 -7.08661417e-02\n",
            "  -3.29670330e-02  1.00000000e+00  5.85643326e-01]\n",
            " [ 8.00000000e-02  1.14285714e-01  1.00000000e-01 -8.18897638e-01\n",
            "   1.00000000e+00 -1.00000000e+00 -9.99038616e-01]\n",
            " [ 8.00000000e-02  1.14285714e-01  1.00000000e-01 -8.18897638e-01\n",
            "   1.00000000e+00 -8.46153846e-01 -9.94872617e-01]\n",
            " [ 8.00000000e-02  1.14285714e-01  1.00000000e-01 -8.18897638e-01\n",
            "   1.00000000e+00 -6.92307692e-01 -9.88463387e-01]\n",
            " [ 8.00000000e-02  1.14285714e-01  1.00000000e-01 -8.18897638e-01\n",
            "   1.00000000e+00 -5.38461538e-01 -9.79170005e-01]\n",
            " [ 8.00000000e-02  1.14285714e-01  1.00000000e-01 -8.18897638e-01\n",
            "   1.00000000e+00 -3.84615385e-01 -9.66351546e-01]\n",
            " [ 8.00000000e-02  1.14285714e-01  1.00000000e-01 -8.18897638e-01\n",
            "   1.00000000e+00 -2.30769231e-01 -9.49367089e-01]\n",
            " [ 8.00000000e-02  1.14285714e-01  1.00000000e-01 -8.18897638e-01\n",
            "   1.00000000e+00 -7.69230769e-02 -9.25652940e-01]\n",
            " [ 8.00000000e-02  1.14285714e-01  1.00000000e-01 -8.18897638e-01\n",
            "   1.00000000e+00  7.69230769e-02 -8.94888640e-01]\n",
            " [ 8.00000000e-02  1.14285714e-01  1.00000000e-01 -8.18897638e-01\n",
            "   1.00000000e+00  2.30769231e-01 -8.52587726e-01]\n",
            " [ 8.00000000e-02  1.14285714e-01  1.00000000e-01 -8.18897638e-01\n",
            "   1.00000000e+00  3.84615385e-01 -7.72472360e-01]\n",
            " [ 8.00000000e-02  1.14285714e-01  1.00000000e-01 -8.18897638e-01\n",
            "   1.00000000e+00  5.38461538e-01 -6.16087166e-01]\n",
            " [ 8.00000000e-02  1.14285714e-01  1.00000000e-01 -8.18897638e-01\n",
            "   1.00000000e+00  6.92307692e-01 -3.24467233e-01]\n",
            " [ 8.00000000e-02  1.14285714e-01  1.00000000e-01 -8.18897638e-01\n",
            "   1.00000000e+00  8.46153846e-01  1.21615126e-01]\n",
            " [ 8.00000000e-02  1.14285714e-01  1.00000000e-01 -8.18897638e-01\n",
            "   1.00000000e+00  1.00000000e+00  6.59669925e-01]\n",
            " [ 8.00000000e-02 -1.55431223e-15  1.00000000e-01  1.00000000e+00\n",
            "  -9.34065934e-01 -1.00000000e+00 -9.97436308e-01]\n",
            " [ 8.00000000e-02 -1.55431223e-15  1.00000000e-01  1.00000000e+00\n",
            "  -9.34065934e-01 -8.46153846e-01 -9.91027079e-01]\n",
            " [ 8.00000000e-02 -1.55431223e-15  1.00000000e-01  1.00000000e+00\n",
            "  -9.34065934e-01 -6.92307692e-01 -9.82374619e-01]\n",
            " [ 8.00000000e-02 -1.55431223e-15  1.00000000e-01  1.00000000e+00\n",
            "  -9.34065934e-01 -5.38461538e-01 -9.72760776e-01]\n",
            " [ 8.00000000e-02 -1.55431223e-15  1.00000000e-01  1.00000000e+00\n",
            "  -9.34065934e-01 -3.84615385e-01 -9.58340010e-01]\n",
            " [ 8.00000000e-02 -1.55431223e-15  1.00000000e-01  1.00000000e+00\n",
            "  -9.34065934e-01 -2.30769231e-01 -9.36548630e-01]\n",
            " [ 8.00000000e-02 -1.55431223e-15  1.00000000e-01  1.00000000e+00\n",
            "  -9.34065934e-01 -7.69230769e-02 -9.06104791e-01]\n",
            " [ 8.00000000e-02 -1.55431223e-15  1.00000000e-01  1.00000000e+00\n",
            "  -9.34065934e-01  7.69230769e-02 -8.65406185e-01]\n",
            " [ 8.00000000e-02 -1.55431223e-15  1.00000000e-01  1.00000000e+00\n",
            "  -9.34065934e-01  2.30769231e-01 -8.22784810e-01]\n",
            " [ 8.00000000e-02 -1.55431223e-15  1.00000000e-01  1.00000000e+00\n",
            "  -9.34065934e-01  3.84615385e-01 -7.35939753e-01]\n",
            " [ 8.00000000e-02 -1.55431223e-15  1.00000000e-01  1.00000000e+00\n",
            "  -9.34065934e-01  5.38461538e-01 -5.81156866e-01]\n",
            " [ 8.00000000e-02 -1.55431223e-15  1.00000000e-01  1.00000000e+00\n",
            "  -9.34065934e-01  6.92307692e-01 -3.14532927e-01]\n",
            " [ 8.00000000e-02 -1.55431223e-15  1.00000000e-01  1.00000000e+00\n",
            "  -9.34065934e-01  8.46153846e-01  6.16888319e-02]\n",
            " [ 8.00000000e-02 -1.55431223e-15  1.00000000e-01  1.00000000e+00\n",
            "  -9.34065934e-01  1.00000000e+00  6.06473322e-01]\n",
            " [ 8.00000000e-02 -2.85714286e-02  9.00000000e-01 -1.02362205e-01\n",
            "   7.58241758e-01 -1.00000000e+00 -9.93911232e-01]\n",
            " [ 8.00000000e-02 -2.85714286e-02  9.00000000e-01 -1.02362205e-01\n",
            "   7.58241758e-01 -8.46153846e-01 -9.89104310e-01]\n",
            " [ 8.00000000e-02 -2.85714286e-02  9.00000000e-01 -1.02362205e-01\n",
            "   7.58241758e-01 -6.92307692e-01 -9.79490466e-01]\n",
            " [ 8.00000000e-02 -2.85714286e-02  9.00000000e-01 -1.02362205e-01\n",
            "   7.58241758e-01 -5.38461538e-01 -9.70517545e-01]\n",
            " [ 8.00000000e-02 -2.85714286e-02  9.00000000e-01 -1.02362205e-01\n",
            "   7.58241758e-01 -3.84615385e-01 -9.56417241e-01]\n",
            " [ 8.00000000e-02 -2.85714286e-02  9.00000000e-01 -1.02362205e-01\n",
            "   7.58241758e-01 -2.30769231e-01 -9.37189553e-01]\n",
            " [ 8.00000000e-02 -2.85714286e-02  9.00000000e-01 -1.02362205e-01\n",
            "   7.58241758e-01 -7.69230769e-02 -9.09629867e-01]\n",
            " [ 8.00000000e-02 -2.85714286e-02  9.00000000e-01 -1.02362205e-01\n",
            "   7.58241758e-01  7.69230769e-02 -8.72456337e-01]\n",
            " [ 8.00000000e-02 -2.85714286e-02  9.00000000e-01 -1.02362205e-01\n",
            "   7.58241758e-01  2.30769231e-01 -8.34000961e-01]\n",
            " [ 8.00000000e-02 -2.85714286e-02  9.00000000e-01 -1.02362205e-01\n",
            "   7.58241758e-01  3.84615385e-01 -7.42989905e-01]\n",
            " [ 8.00000000e-02 -2.85714286e-02  9.00000000e-01 -1.02362205e-01\n",
            "   7.58241758e-01  5.38461538e-01 -5.88207018e-01]\n",
            " [ 8.00000000e-02 -2.85714286e-02  9.00000000e-01 -1.02362205e-01\n",
            "   7.58241758e-01  6.92307692e-01 -3.11007851e-01]\n",
            " [ 8.00000000e-02 -2.85714286e-02  9.00000000e-01 -1.02362205e-01\n",
            "   7.58241758e-01  8.46153846e-01  8.82871335e-02]\n",
            " [ 8.00000000e-02 -2.85714286e-02  9.00000000e-01 -1.02362205e-01\n",
            "   7.58241758e-01  1.00000000e+00  6.13523474e-01]\n",
            " [ 4.00000000e-02  2.57142857e-01 -9.50000000e-01 -9.44881890e-02\n",
            "  -9.34065934e-01 -1.00000000e+00 -9.93911232e-01]\n",
            " [ 4.00000000e-02  2.57142857e-01 -9.50000000e-01 -9.44881890e-02\n",
            "  -9.34065934e-01 -8.46153846e-01 -9.89104310e-01]\n",
            " [ 4.00000000e-02  2.57142857e-01 -9.50000000e-01 -9.44881890e-02\n",
            "  -9.34065934e-01 -6.92307692e-01 -9.79490466e-01]\n",
            " [ 4.00000000e-02  2.57142857e-01 -9.50000000e-01 -9.44881890e-02\n",
            "  -9.34065934e-01 -5.38461538e-01 -9.70517545e-01]\n",
            " [ 4.00000000e-02  2.57142857e-01 -9.50000000e-01 -9.44881890e-02\n",
            "  -9.34065934e-01 -3.84615385e-01 -9.56417241e-01]\n",
            " [ 4.00000000e-02  2.57142857e-01 -9.50000000e-01 -9.44881890e-02\n",
            "  -9.34065934e-01 -2.30769231e-01 -9.37189553e-01]\n",
            " [ 4.00000000e-02  2.57142857e-01 -9.50000000e-01 -9.44881890e-02\n",
            "  -9.34065934e-01 -7.69230769e-02 -9.09629867e-01]\n",
            " [ 4.00000000e-02  2.57142857e-01 -9.50000000e-01 -9.44881890e-02\n",
            "  -9.34065934e-01  7.69230769e-02 -8.72456337e-01]\n",
            " [ 4.00000000e-02  2.57142857e-01 -9.50000000e-01 -9.44881890e-02\n",
            "  -9.34065934e-01  2.30769231e-01 -8.34000961e-01]\n",
            " [ 4.00000000e-02  2.57142857e-01 -9.50000000e-01 -9.44881890e-02\n",
            "  -9.34065934e-01  3.84615385e-01 -7.42989905e-01]\n",
            " [ 4.00000000e-02  2.57142857e-01 -9.50000000e-01 -9.44881890e-02\n",
            "  -9.34065934e-01  5.38461538e-01 -5.88207018e-01]\n",
            " [ 8.00000000e-02  1.00000000e+00  9.00000000e-01  7.08661417e-02\n",
            "   7.14285714e-01 -8.46153846e-01 -9.95193078e-01]\n",
            " [ 8.00000000e-02  1.00000000e+00  9.00000000e-01  7.08661417e-02\n",
            "   7.14285714e-01 -6.92307692e-01 -9.87822464e-01]\n",
            " [ 8.00000000e-02  1.00000000e+00  9.00000000e-01  7.08661417e-02\n",
            "   7.14285714e-01 -5.38461538e-01 -9.76926775e-01]\n",
            " [ 8.00000000e-02  1.00000000e+00  9.00000000e-01  7.08661417e-02\n",
            "   7.14285714e-01 -3.84615385e-01 -9.60583240e-01]\n",
            " [ 8.00000000e-02  1.00000000e+00  9.00000000e-01  7.08661417e-02\n",
            "   7.14285714e-01 -2.30769231e-01 -9.37510014e-01]\n",
            " [ 8.00000000e-02  1.00000000e+00  9.00000000e-01  7.08661417e-02\n",
            "   7.14285714e-01 -7.69230769e-02 -9.02900176e-01]\n",
            " [ 8.00000000e-02  1.00000000e+00  9.00000000e-01  7.08661417e-02\n",
            "   7.14285714e-01  7.69230769e-02 -8.57394648e-01]\n",
            " [ 8.00000000e-02  1.00000000e+00  9.00000000e-01  7.08661417e-02\n",
            "   7.14285714e-01  2.30769231e-01 -7.98109277e-01]\n",
            " [ 8.00000000e-02  1.00000000e+00  9.00000000e-01  7.08661417e-02\n",
            "   7.14285714e-01  3.84615385e-01 -7.22159910e-01]\n",
            " [ 8.00000000e-02  1.00000000e+00  9.00000000e-01  7.08661417e-02\n",
            "   7.14285714e-01  5.38461538e-01 -6.03268707e-01]\n",
            " [ 8.00000000e-02  1.00000000e+00  9.00000000e-01  7.08661417e-02\n",
            "   7.14285714e-01  6.92307692e-01 -3.54911072e-01]\n",
            " [ 8.00000000e-02  1.00000000e+00  9.00000000e-01  7.08661417e-02\n",
            "   7.14285714e-01  8.46153846e-01  1.77856113e-02]\n",
            " [ 8.00000000e-02  1.00000000e+00  9.00000000e-01  7.08661417e-02\n",
            "   7.14285714e-01  1.00000000e+00  5.10014421e-01]\n",
            " [ 8.00000000e-02  1.00000000e+00 -1.00000000e+00  1.18110236e-01\n",
            "  -1.00000000e+00 -1.00000000e+00 -9.99038616e-01]\n",
            " [ 8.00000000e-02  1.00000000e+00 -1.00000000e+00  1.18110236e-01\n",
            "  -1.00000000e+00 -8.46153846e-01 -9.94872617e-01]\n",
            " [ 8.00000000e-02  1.00000000e+00 -1.00000000e+00  1.18110236e-01\n",
            "  -1.00000000e+00 -6.92307692e-01 -9.88783849e-01]\n",
            " [ 8.00000000e-02  1.00000000e+00 -1.00000000e+00  1.18110236e-01\n",
            "  -1.00000000e+00 -5.38461538e-01 -9.79810928e-01]\n",
            " [ 8.00000000e-02  1.00000000e+00 -1.00000000e+00  1.18110236e-01\n",
            "  -1.00000000e+00 -3.84615385e-01 -9.67633392e-01]\n",
            " [ 8.00000000e-02  1.00000000e+00 -1.00000000e+00  1.18110236e-01\n",
            "  -1.00000000e+00 -2.30769231e-01 -9.48405704e-01]\n",
            " [ 8.00000000e-02  1.00000000e+00 -1.00000000e+00  1.18110236e-01\n",
            "  -1.00000000e+00 -7.69230769e-02 -9.16039096e-01]\n",
            " [ 8.00000000e-02  1.00000000e+00 -1.00000000e+00  1.18110236e-01\n",
            "  -1.00000000e+00  7.69230769e-02 -8.67328954e-01]\n",
            " [ 8.00000000e-02  1.00000000e+00 -1.00000000e+00  1.18110236e-01\n",
            "  -1.00000000e+00  2.30769231e-01 -8.08043583e-01]\n",
            " [ 8.00000000e-02  1.00000000e+00 -1.00000000e+00  1.18110236e-01\n",
            "  -1.00000000e+00  3.84615385e-01 -7.28889601e-01]\n",
            " [ 8.00000000e-02  1.00000000e+00 -1.00000000e+00  1.18110236e-01\n",
            "  -1.00000000e+00  5.38461538e-01 -6.07114245e-01]\n",
            " [ 8.00000000e-02  1.00000000e+00 -1.00000000e+00  1.18110236e-01\n",
            "  -1.00000000e+00  6.92307692e-01 -3.72536452e-01]\n",
            " [ 8.00000000e-02  1.00000000e+00 -1.00000000e+00  1.18110236e-01\n",
            "  -1.00000000e+00  8.46153846e-01 -2.35539176e-02]\n",
            " [ 8.00000000e-02  1.00000000e+00 -1.00000000e+00  1.18110236e-01\n",
            "  -1.00000000e+00  1.00000000e+00  4.94952732e-01]]\n"
          ],
          "name": "stdout"
        }
      ]
    },
    {
      "cell_type": "code",
      "metadata": {
        "id": "UpgjbQAuQX_L",
        "colab_type": "code",
        "colab": {}
      },
      "source": [
        "for i in range(muestrasVal):\n",
        "    temp = dataNor[i]\n",
        "    xTemp = temp[0:6]\n",
        "    yTemp = temp[6]\n",
        "    xTest[i] = xTemp\n",
        "    yTest[i] = yTemp"
      ],
      "execution_count": 0,
      "outputs": []
    },
    {
      "cell_type": "code",
      "metadata": {
        "id": "xY095jB2QlTv",
        "colab_type": "code",
        "colab": {
          "base_uri": "https://localhost:8080/",
          "height": 1000
        },
        "outputId": "0ee08a9e-c9af-4bdf-ac06-1928b00ab203"
      },
      "source": [
        "curr_loss2, curr_Output2 = sess.run([loss,Output], {X:  xTest, Y: yTest})\n",
        "\n",
        "#Desnormalización de los datos\n",
        "curr_DOutput2 = np.zeros([94,1],dtype=np.float64)\n",
        "DesOutput = []\n",
        "atrib = []\n",
        "\n",
        "for j in range(0,len(trainv)):\n",
        "    temp = trainv[j]\n",
        "    atrib.append(temp[6])\n",
        "    \n",
        "xMin = mins[6]\n",
        "xMax = maxs[6]\n",
        "for k in range(0,len(trainv)):\n",
        "    n = xMax-xMin\n",
        "    des = 0.5*(curr_Output2[k] + 1)*n+xMin\n",
        "    DesOutput.append(des)\n",
        "\n",
        "for l in range(0,len(trainv)):\n",
        "    curr_DOutput2[l] = DesOutput[l]\n",
        "\n",
        "print(\"loss: %s \"%(curr_loss2))\n",
        "print(curr_DOutput2)"
      ],
      "execution_count": 21,
      "outputs": [
        {
          "output_type": "stream",
          "text": [
            "loss: 0.0019211157 \n",
            "[[ 0.57649636]\n",
            " [ 0.50392061]\n",
            " [ 0.47481588]\n",
            " [ 0.5454275 ]\n",
            " [ 0.8315233 ]\n",
            " [ 1.51740694]\n",
            " [ 2.73444772]\n",
            " [ 4.30184603]\n",
            " [ 5.89955044]\n",
            " [ 7.87978983]\n",
            " [11.95932865]\n",
            " [21.33670235]\n",
            " [36.99462509]\n",
            " [51.88736725]\n",
            " [ 0.55001789]\n",
            " [ 0.50807577]\n",
            " [ 0.5357371 ]\n",
            " [ 0.71572202]\n",
            " [ 1.20077062]\n",
            " [ 2.17061472]\n",
            " [ 3.60050225]\n",
            " [ 5.10007524]\n",
            " [ 6.40091085]\n",
            " [ 7.97072697]\n",
            " [11.36263752]\n",
            " [19.57474136]\n",
            " [34.46166992]\n",
            " [50.16479492]\n",
            " [ 1.08893847]\n",
            " [ 1.04100347]\n",
            " [ 1.01921582]\n",
            " [ 1.06057775]\n",
            " [ 1.24644387]\n",
            " [ 1.72917485]\n",
            " [ 2.69590187]\n",
            " [ 4.15111494]\n",
            " [ 5.7718792 ]\n",
            " [ 7.46072531]\n",
            " [10.17337704]\n",
            " [16.44926834]\n",
            " [29.28444099]\n",
            " [45.77370453]\n",
            " [ 0.26210308]\n",
            " [ 0.22616489]\n",
            " [ 0.27455741]\n",
            " [ 0.50575823]\n",
            " [ 1.08868921]\n",
            " [ 2.17979193]\n",
            " [ 3.65422535]\n",
            " [ 5.06896925]\n",
            " [ 6.25885057]\n",
            " [ 7.81037998]\n",
            " [11.36860371]\n",
            " [19.98875809]\n",
            " [35.18824768]\n",
            " [50.59896851]\n",
            " [ 1.00961852]\n",
            " [ 0.9393602 ]\n",
            " [ 0.88600534]\n",
            " [ 0.87551516]\n",
            " [ 0.96736383]\n",
            " [ 1.28485954]\n",
            " [ 2.02845025]\n",
            " [ 3.36772776]\n",
            " [ 5.25064659]\n",
            " [ 7.79198122]\n",
            " [12.4529438 ]\n",
            " [ 0.40978414]\n",
            " [ 0.44407815]\n",
            " [ 0.64757299]\n",
            " [ 1.18368864]\n",
            " [ 2.21834898]\n",
            " [ 3.66089153]\n",
            " [ 5.07608175]\n",
            " [ 6.24033308]\n",
            " [ 7.64257765]\n",
            " [10.75763607]\n",
            " [18.48680115]\n",
            " [32.96442413]\n",
            " [48.86928177]\n",
            " [ 1.33177149]\n",
            " [ 1.27908623]\n",
            " [ 1.23991907]\n",
            " [ 1.23787689]\n",
            " [ 1.32745266]\n",
            " [ 1.62301934]\n",
            " [ 2.31618667]\n",
            " [ 3.58175755]\n",
            " [ 5.36345339]\n",
            " [ 7.63433409]\n",
            " [11.48639965]\n",
            " [19.85314178]\n",
            " [34.7474823 ]\n",
            " [50.49331284]]\n"
          ],
          "name": "stdout"
        }
      ]
    },
    {
      "cell_type": "code",
      "metadata": {
        "id": "TvrDItZGQ0Je",
        "colab_type": "code",
        "colab": {}
      },
      "source": [
        "dataCO = np.zeros([neurons,7],dtype=np.float64)\n",
        "dataCS = np.zeros([1,neurons+1],dtype=np.float64)"
      ],
      "execution_count": 0,
      "outputs": []
    },
    {
      "cell_type": "code",
      "metadata": {
        "id": "cIu2YFdcQ7x0",
        "colab_type": "code",
        "colab": {
          "base_uri": "https://localhost:8080/",
          "height": 1000
        },
        "outputId": "706aee77-c07a-47df-9058-a5239c009eac"
      },
      "source": [
        "curr_loss,curr_Output,curr_Wco,curr_bco,curr_Wcs,curr_bcs=sess.run([loss,Output,Wco,bco,Wcs,bcs], {X:  xTrain, Y: yTrain})\n",
        "\n",
        "print(\"WCO: %s BCO: %s \"%(curr_Wco,curr_bco))"
      ],
      "execution_count": 23,
      "outputs": [
        {
          "output_type": "stream",
          "text": [
            "WCO: [[ 8.15751478e-02  2.50898991e-02 -2.43833680e-02  1.06751330e-01\n",
            "   6.56132698e-02  8.08066651e-02 -3.60039212e-02 -6.01832457e-02\n",
            "   4.83317561e-02 -2.27253418e-03 -8.45394582e-02 -6.19177008e-03\n",
            "  -1.08782001e-01 -5.24569228e-02  9.97398049e-02 -1.54593676e-01\n",
            "   4.98536751e-02  1.30025353e-02  1.60058901e-01 -7.12399706e-02\n",
            "  -9.36361830e-05  6.15630150e-02  2.05100589e-02 -9.80814099e-02\n",
            "   9.02329683e-02  1.06198624e-01 -9.33544785e-02  3.23484726e-02\n",
            "  -1.18818887e-01 -1.63876954e-02 -4.64532301e-02 -9.46435034e-02\n",
            "   7.20453262e-02 -4.70147878e-02 -4.76022437e-02 -1.78848252e-01\n",
            "   4.16560797e-03  2.44407818e-01 -8.05953443e-02 -4.59785387e-02\n",
            "  -1.27211109e-01  5.29501289e-02  3.49282258e-04 -1.79638322e-02\n",
            "  -6.44047558e-02 -2.74780989e-02  8.70112479e-02  6.16623908e-02\n",
            "  -2.30511948e-02 -6.92281574e-02  2.08564326e-02 -5.22265695e-02\n",
            "   5.11285625e-02 -6.23146556e-02  7.43028745e-02 -5.94429187e-02\n",
            "   4.88991402e-02  1.08529991e-02 -9.40270647e-02 -1.09968118e-01]\n",
            " [ 3.64414692e-01  2.23283246e-01 -1.07868351e-01  6.68445081e-02\n",
            "   3.01589370e-02 -1.49858549e-01 -3.05363927e-02  4.27249931e-02\n",
            "   3.49816456e-02  5.90006150e-02 -1.96093276e-01  5.92670515e-02\n",
            "   1.17820073e-02 -4.34272364e-02 -1.64230704e-01  1.15752243e-01\n",
            "   9.36724022e-02  2.13941678e-01 -1.90005358e-02  1.98175907e-02\n",
            "  -3.32633257e-01 -1.68312475e-01 -3.09955865e-01  3.74474786e-02\n",
            "  -1.03082927e-02 -4.81483564e-02  4.94918853e-01 -1.12922132e-01\n",
            "   7.34067485e-02 -4.22992818e-02  4.07904126e-02 -1.72087625e-01\n",
            "   8.41714293e-02  3.22055131e-01  1.48122668e-01 -5.51583208e-02\n",
            "  -1.92319289e-01 -3.53991427e-02  1.80898324e-01  9.67094377e-02\n",
            "  -1.01455726e-01  2.53723953e-02  3.18554491e-02 -2.34588236e-02\n",
            "  -4.46097702e-02  1.08645782e-01 -3.95313315e-02  8.51997547e-03\n",
            "   6.25427067e-02  1.06206387e-01  3.04788519e-02 -1.16713539e-01\n",
            "   9.41063762e-02 -6.57417625e-02  5.54077104e-02 -1.90921605e-01\n",
            "   3.51312488e-01  2.61932220e-02 -7.74722472e-02  7.84495845e-02]\n",
            " [ 1.36673975e+00  8.85190487e-01 -8.98661017e-01  6.78801596e-01\n",
            "  -2.40941972e-01 -2.25241870e-01 -3.01103387e-02  2.18552604e-01\n",
            "   3.51896167e-01  2.03060821e-01 -6.26201391e-01  1.73504606e-01\n",
            "  -3.92022610e-01 -1.18933827e-01  1.49264559e-01 -1.07226513e-01\n",
            "   3.24405164e-01  8.99935007e-01  2.50886798e-01  1.78916752e-01\n",
            "  -9.86470342e-01 -2.84542054e-01 -6.38116360e-01  2.34041601e-01\n",
            "  -6.23332486e-02  2.19411775e-01  1.01197648e+00 -1.84143469e-01\n",
            "  -9.30650830e-01 -1.83554590e-01 -1.60511792e-01 -9.40506697e-01\n",
            "   3.35430592e-01  1.36120594e+00  2.84916013e-01  3.70569795e-01\n",
            "  -7.05251217e-01  1.60111368e-01  3.30441743e-01  2.52035648e-01\n",
            "   9.00583565e-02 -4.22979295e-02  3.08541417e-01 -3.06502581e-01\n",
            "  -6.34701073e-01  4.65182930e-01 -3.62715781e-01  5.28214812e-01\n",
            "   2.29316622e-01  4.99310374e-01 -1.30719855e-01 -4.56933707e-01\n",
            "   7.23980010e-01 -3.80725473e-01  5.60324907e-01 -8.19083452e-01\n",
            "   1.21427512e+00  2.15151876e-01 -9.30395782e-01  2.05973208e-01]\n",
            " [-1.81153893e+00 -9.98092651e-01  9.38706636e-01 -8.52333546e-01\n",
            "   2.41746664e-01  2.99093753e-01 -1.52551262e-02 -2.78708041e-01\n",
            "  -3.92315030e-01 -2.84135163e-01  7.61968076e-01 -2.04584688e-01\n",
            "   4.28860277e-01  2.05639526e-01  1.68160856e-01 -1.07448198e-01\n",
            "  -3.30999017e-01 -1.12094128e+00 -6.82176575e-02 -2.85324991e-01\n",
            "   1.08126259e+00  3.69665027e-01  8.62882376e-01 -2.65883625e-01\n",
            "   9.26635861e-02 -1.64271280e-01 -1.33894098e+00  3.04449707e-01\n",
            "   1.01223886e+00  2.55235344e-01  2.61012316e-01  1.20912874e+00\n",
            "  -5.33124447e-01 -1.86129582e+00 -3.42207372e-01 -5.44943988e-01\n",
            "   9.72197592e-01 -1.97243541e-02 -5.48530996e-01 -3.07698101e-01\n",
            "  -2.19863206e-02  1.85222045e-01 -3.19769263e-01  3.68021607e-01\n",
            "   8.98289025e-01 -7.64407337e-01  4.28571969e-01 -5.08690596e-01\n",
            "  -2.98741877e-01 -5.93622863e-01  1.99237943e-01  6.47516608e-01\n",
            "  -7.84722984e-01  5.04490554e-01 -6.51245356e-01  9.91908610e-01\n",
            "  -1.71643710e+00 -2.39814252e-01  1.07542062e+00 -2.30277702e-01]\n",
            " [-1.68344617e+00 -1.05394685e+00  1.17245281e+00 -4.66297626e-01\n",
            "   1.31156430e-01  3.59629661e-01 -9.73623618e-02 -4.76855993e-01\n",
            "  -3.17065328e-01 -3.10624868e-01  6.93908453e-01 -2.19223768e-01\n",
            "   2.11765572e-01  5.10681309e-02 -1.93397719e-02 -1.14844471e-01\n",
            "  -5.03569126e-01 -9.53711033e-01  1.74928486e-01 -2.73054302e-01\n",
            "   1.47700524e+00  4.81430322e-01  7.93939173e-01 -3.13693583e-01\n",
            "   7.32912421e-02 -1.27062127e-01 -1.43040955e+00  1.52520478e-01\n",
            "   5.95305264e-01  1.98792785e-01 -1.33434325e-01  9.24589932e-01\n",
            "  -1.87175289e-01 -1.53861392e+00 -3.98102462e-01 -1.49071455e-01\n",
            "   8.34886372e-01 -1.91186875e-01 -4.32498097e-01 -5.32293200e-01\n",
            "   1.32854667e-03  4.59242091e-02 -4.20333296e-01  2.27018133e-01\n",
            "   7.46503651e-01 -5.35543263e-01  3.08198422e-01 -5.66524565e-01\n",
            "  -4.56915557e-01 -5.43447852e-01 -3.71631719e-02  5.42968750e-01\n",
            "  -9.35565829e-01  2.88917184e-01 -6.59181833e-01  8.54097188e-01\n",
            "  -1.11172509e+00 -1.07917197e-01  8.81841242e-01 -4.94255334e-01]\n",
            " [-6.19232841e-02 -1.93026550e-02 -1.93934049e-02 -1.22384734e-01\n",
            "  -9.34559107e-02 -1.96874440e-01  7.49816075e-02  4.87105921e-02\n",
            "   6.46095499e-02  2.36037970e-02  1.50660917e-01 -3.02228499e-02\n",
            "   1.12510040e-01  4.09187973e-02 -8.39732066e-02  1.20323543e-02\n",
            "  -2.65367299e-01  2.24550324e-03  2.90809488e+00  1.95452705e-01\n",
            "   1.31196901e-01 -1.49670169e-01  2.98113227e-02  8.79056752e-02\n",
            "  -5.03417253e-02 -8.21288005e-02  2.22363532e-01 -3.18465531e-02\n",
            "   1.53738469e-01  1.22935604e-02  7.25942627e-02  7.37862065e-02\n",
            "  -1.58008337e-02  2.14673936e-01 -1.10153109e-03  2.44207263e-01\n",
            "   3.09962966e-02 -2.80201510e-02  2.31046546e-02  6.46689385e-02\n",
            "  -7.68842548e-02 -2.07202390e-01 -1.73113458e-02 -3.07692972e-04\n",
            "  -3.76905751e+00 -2.52916235e-02  1.14967085e-01  8.73570796e-04\n",
            "  -2.89510507e-02  6.52982295e-02 -3.91390100e-02  8.17411169e-02\n",
            "  -1.58996150e-01  7.12013841e-02 -1.00204207e-01 -1.06042642e-02\n",
            "  -1.97097659e-02 -2.91889191e-01  2.16000542e-01  8.51685256e-02]] BCO: [-0.3511769  -0.20132257  0.26277763 -0.08685086  0.02947701  0.08878692\n",
            "  0.04376045 -0.03496299 -0.01023142  0.02570398  0.1823243  -0.02146422\n",
            "  0.00812694 -0.00517441 -0.06186802 -0.15824565 -0.2145388  -0.11748642\n",
            " -0.03431385  0.02964111  0.47537598  0.03651024  0.37216592 -0.06290561\n",
            "  0.05711659 -0.06107032 -0.18206939  0.0598372   0.17748733 -0.11528391\n",
            " -0.04851332  0.10722653  0.01766992 -0.11036007 -0.1595327   0.01727725\n",
            "  0.18339129  0.25447908 -0.15550314 -0.03429024 -0.15717778 -0.16917954\n",
            " -0.1347824  -0.0651399   3.3045099  -0.12293714  0.23932607 -0.05531015\n",
            " -0.1619306  -0.10156538 -0.14738119  0.12938693 -0.1675927   0.05874221\n",
            " -0.19732253  0.14001986 -0.24165267 -0.16919124  0.21952946  0.0183847 ] \n"
          ],
          "name": "stdout"
        }
      ]
    },
    {
      "cell_type": "code",
      "metadata": {
        "id": "8l2omFbdRFOb",
        "colab_type": "code",
        "colab": {}
      },
      "source": [
        "with open(WCO, 'w', newline='') as csvfile:\n",
        "    weightwriter = csv.writer(csvfile, delimiter=',',\n",
        "                            quotechar='\"', quoting=csv.QUOTE_MINIMAL)\n",
        "    \n",
        "    for i in range(0,neurons):\n",
        "        for j in range(0,6):\n",
        "            dataCO[i,j] = curr_Wco[j,i]\n",
        "        \n",
        "        dataCO[i,6] = curr_bco[i]\n",
        "        weightwriter.writerow(dataCO[i,:]) "
      ],
      "execution_count": 0,
      "outputs": []
    },
    {
      "cell_type": "code",
      "metadata": {
        "id": "E2VdWjFwR1by",
        "colab_type": "code",
        "colab": {
          "base_uri": "https://localhost:8080/",
          "height": 1000
        },
        "outputId": "b46693d4-2230-4097-b38d-d3b3031f8053"
      },
      "source": [
        "print(\"WCS: %s BCS: %s \"%(curr_Wcs,curr_bcs)) "
      ],
      "execution_count": 25,
      "outputs": [
        {
          "output_type": "stream",
          "text": [
            "WCS: [[ 2.62833517e-02]\n",
            " [-6.44662082e-02]\n",
            " [ 1.19901951e-02]\n",
            " [ 1.80468503e-02]\n",
            " [-1.14818790e-03]\n",
            " [-6.28941655e-02]\n",
            " [ 1.69794839e-02]\n",
            " [-1.33911222e-02]\n",
            " [ 3.88839170e-02]\n",
            " [ 1.59366019e-02]\n",
            " [ 3.60359065e-02]\n",
            " [-8.09943490e-03]\n",
            " [-1.32328477e-02]\n",
            " [-3.33203487e-02]\n",
            " [-4.20334109e-04]\n",
            " [ 9.96275172e-02]\n",
            " [ 4.23764847e-02]\n",
            " [ 5.33573842e-03]\n",
            " [ 1.11157440e-01]\n",
            " [ 3.80599536e-02]\n",
            " [-1.00170553e-01]\n",
            " [-4.69788164e-02]\n",
            " [ 8.97538811e-02]\n",
            " [-2.03835815e-02]\n",
            " [ 2.93341856e-02]\n",
            " [ 4.61228453e-02]\n",
            " [ 7.34951869e-02]\n",
            " [ 6.15759231e-02]\n",
            " [-1.19250715e-01]\n",
            " [-4.88060527e-02]\n",
            " [-1.05569521e-02]\n",
            " [ 7.30545893e-02]\n",
            " [ 1.00066895e-02]\n",
            " [-5.93920425e-02]\n",
            " [-5.79963997e-02]\n",
            " [-3.51238139e-02]\n",
            " [ 1.32591755e-04]\n",
            " [-9.01495814e-02]\n",
            " [-1.31751839e-02]\n",
            " [-1.60736423e-02]\n",
            " [-1.09035829e-02]\n",
            " [ 5.16667105e-02]\n",
            " [-1.45055410e-02]\n",
            " [ 5.28725199e-02]\n",
            " [-9.39988017e-01]\n",
            " [-1.82920676e-02]\n",
            " [-1.82229932e-02]\n",
            " [ 4.35623415e-02]\n",
            " [-1.80538408e-02]\n",
            " [-4.69219573e-02]\n",
            " [-2.10774709e-02]\n",
            " [-2.96022538e-02]\n",
            " [-8.46753363e-03]\n",
            " [-1.29124373e-02]\n",
            " [-3.01095806e-02]\n",
            " [-1.05941417e-02]\n",
            " [ 1.33504532e-02]\n",
            " [-1.91728771e-03]\n",
            " [ 5.31036519e-02]\n",
            " [-3.80183831e-02]] BCS: [0.09613767] \n"
          ],
          "name": "stdout"
        }
      ]
    },
    {
      "cell_type": "code",
      "metadata": {
        "id": "Os_IjwGlR2Fr",
        "colab_type": "code",
        "colab": {}
      },
      "source": [
        "with open(WCS, 'w', newline='') as csvfile:\n",
        "    weightwriter = csv.writer(csvfile, delimiter=',',\n",
        "                            quotechar='\"', quoting=csv.QUOTE_MINIMAL)\n",
        "    \n",
        "    for i in range(0,neurons + 1):\n",
        "        if i<neurons:\n",
        "            dataCS[0,i]=curr_Wcs[i,0]\n",
        "        if i==neurons:\n",
        "            dataCS[0,i]=curr_bcs[0]\n",
        "    \n",
        "    weightwriter.writerow(dataCS[0,:]) "
      ],
      "execution_count": 0,
      "outputs": []
    },
    {
      "cell_type": "code",
      "metadata": {
        "id": "xrlAJF9gSplN",
        "colab_type": "code",
        "colab": {
          "base_uri": "https://localhost:8080/",
          "height": 299
        },
        "outputId": "0af3774d-45b8-4285-8bc5-7ebdcce049d5"
      },
      "source": [
        "from sklearn import datasets, linear_model\n",
        "from sklearn.metrics import mean_squared_error, r2_score\n",
        "\n",
        "output = curr_Output\n",
        "target = yTrain\n",
        "\n",
        "regr = linear_model.LinearRegression()\n",
        "\n",
        "regr.fit(target,output)\n",
        "\n",
        "print('Coefficients: \\n', regr.coef_)\n",
        "\n",
        "Xg,Yg = target,output\n",
        "plt.plot(Xg, Yg,'b.-', label='Regression coeficient')\n",
        "#plt.title('Coeficiente de regresión de los  datos de entrenamiento')\n",
        "#plt.legend\n",
        "plt.show()"
      ],
      "execution_count": 27,
      "outputs": [
        {
          "output_type": "stream",
          "text": [
            "Coefficients: \n",
            " [[0.99337327]]\n"
          ],
          "name": "stdout"
        },
        {
          "output_type": "display_data",
          "data": {
            "image/png": "[encoded data removed]",
            "text/plain": [
              "<Figure size 432x288 with 1 Axes>"
            ]
          },
          "metadata": {
            "tags": []
          }
        }
      ]
    },
    {
      "cell_type": "code",
      "metadata": {
        "id": "6CObbmTZStEv",
        "colab_type": "code",
        "colab": {
          "base_uri": "https://localhost:8080/",
          "height": 299
        },
        "outputId": "fea47b48-33cb-4e07-8740-74c2aeb529b0"
      },
      "source": [
        "from sklearn import datasets, linear_model\n",
        "from sklearn.metrics import mean_squared_error, r2_score\n",
        "\n",
        "output = curr_Output2\n",
        "target = yTest\n",
        "\n",
        "regr = linear_model.LinearRegression()\n",
        "\n",
        "regr.fit(target,output)\n",
        "\n",
        "print('Coefficients: \\n', regr.coef_)\n",
        "\n",
        "Xg,Yg = target,output\n",
        "plt.plot(Xg, Yg,'b.-', label='Regression coeficient')\n",
        "#plt.title('Coeficiente de regresión de los  datos de validación')\n",
        "plt.legend\n",
        "plt.show()"
      ],
      "execution_count": 28,
      "outputs": [
        {
          "output_type": "stream",
          "text": [
            "Coefficients: \n",
            " [[0.99812343]]\n"
          ],
          "name": "stdout"
        },
        {
          "output_type": "display_data",
          "data": {
            "image/png": "[encoded data removed]",
            "text/plain": [
              "<Figure size 432x288 with 1 Axes>"
            ]
          },
          "metadata": {
            "tags": []
          }
        }
      ]
    },
    {
      "cell_type": "code",
      "metadata": {
        "id": "TQDCmta7SzuL",
        "colab_type": "code",
        "colab": {
          "base_uri": "https://localhost:8080/",
          "height": 281
        },
        "outputId": "e4608506-990c-4f29-e85f-12a089658768"
      },
      "source": [
        "x = list(range(215))\n",
        "plt.plot(x,trainDeseado,'b', label='Datos entrenamiento')\n",
        "plt.plot(x,curr_DOutput, 'r', label='Salida red')\n",
        "plt.legend()\n",
        "plt.ylabel('Rendimiento del Yate')\n",
        "plt.title('Entrenamiento de la red')\n",
        "plt.grid(True)\n",
        "plt.show()"
      ],
      "execution_count": 29,
      "outputs": [
        {
          "output_type": "display_data",
          "data": {
            "image/png": "[encoded data removed]",
            "text/plain": [
              "<Figure size 432x288 with 1 Axes>"
            ]
          },
          "metadata": {
            "tags": []
          }
        }
      ]
    },
    {
      "cell_type": "code",
      "metadata": {
        "id": "Na5SMOyjTCoB",
        "colab_type": "code",
        "colab": {
          "base_uri": "https://localhost:8080/",
          "height": 281
        },
        "outputId": "ee10287c-7891-4549-dff1-6422b1cc0ee4"
      },
      "source": [
        "x = list(range(94))\n",
        "plt.plot(x,valDes,'b', label='Datos validación')\n",
        "plt.plot(x,curr_DOutput2, 'r', label='Salida red')\n",
        "plt.legend()\n",
        "plt.ylabel('Rendimiento Hidrodinámico del Yate')\n",
        "plt.title('Validación de la red (RMSProp))')\n",
        "plt.grid(True)\n",
        "plt.show()"
      ],
      "execution_count": 31,
      "outputs": [
        {
          "output_type": "display_data",
          "data": {
            "image/png": "[encoded data removed]",
            "text/plain": [
              "<Figure size 432x288 with 1 Axes>"
            ]
          },
          "metadata": {
            "tags": []
          }
        }
      ]
    }
  ]
}